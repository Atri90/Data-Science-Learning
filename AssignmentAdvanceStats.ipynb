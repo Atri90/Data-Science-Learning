{
  "metadata": {
    "language_info": {
      "codemirror_mode": {
        "name": "python",
        "version": 3
      },
      "file_extension": ".py",
      "mimetype": "text/x-python",
      "name": "python",
      "nbconvert_exporter": "python",
      "pygments_lexer": "ipython3",
      "version": "3.8"
    },
    "kernelspec": {
      "name": "python",
      "display_name": "Python (Pyodide)",
      "language": "python"
    }
  },
  "nbformat_minor": 4,
  "nbformat": 4,
  "cells": [
    {
      "cell_type": "code",
      "source": "Distribution of probablity on the basis of continuous random variable",
      "metadata": {},
      "execution_count": null,
      "outputs": []
    },
    {
      "cell_type": "code",
      "source": "",
      "metadata": {},
      "execution_count": null,
      "outputs": []
    },
    {
      "cell_type": "code",
      "source": "Normal\nBinomial\nBernoulli\nLog Normal\nPoisson",
      "metadata": {},
      "execution_count": null,
      "outputs": []
    },
    {
      "cell_type": "code",
      "source": "",
      "metadata": {},
      "execution_count": null,
      "outputs": []
    },
    {
      "cell_type": "code",
      "source": "from scipy.stats import norm\n\ndef pd(mean,sd,x):\n    pdf = norm.pdf(x, loc=mean, scale=sd)\n    return pdf\n    ",
      "metadata": {
        "trusted": true
      },
      "execution_count": 1,
      "outputs": []
    },
    {
      "cell_type": "code",
      "source": "pd(2, 4, 1)",
      "metadata": {
        "trusted": true
      },
      "execution_count": 2,
      "outputs": [
        {
          "execution_count": 2,
          "output_type": "execute_result",
          "data": {
            "text/plain": "0.09666702920071232"
          },
          "metadata": {}
        }
      ]
    },
    {
      "cell_type": "code",
      "source": "",
      "metadata": {},
      "execution_count": null,
      "outputs": []
    },
    {
      "cell_type": "code",
      "source": "Binomial distribution has two outcomes success and failure when a event is repeated for n number of times\n\nprobablity of hitting a 43 times target out of 100 trials\nprobablity of tosing a coin 10 times",
      "metadata": {},
      "execution_count": null,
      "outputs": []
    },
    {
      "cell_type": "code",
      "source": "",
      "metadata": {},
      "execution_count": null,
      "outputs": []
    },
    {
      "cell_type": "code",
      "source": "import numpy as np\nimport matplotlib.pyplot as plt\n\ndef generate_binomial_sample(n, p, size):\n    sample = np.random.binomial(n, p, size)\n    return sample\n\n# Generate a random sample of size 1000 from a binomial distribution\nsample_size = 1000\nprob_success = 0.4\nsample = generate_binomial_sample(1, prob_success, sample_size)\n\n# Plot a histogram of the sample\nplt.hist(sample, bins='auto', edgecolor='black')\nplt.xlabel('Number of Successes')\nplt.ylabel('Frequency')\nplt.title('Binomial Distribution (n=1, p=0.4)')\nplt.grid(True)\nplt.show()\n",
      "metadata": {
        "trusted": true
      },
      "execution_count": 31,
      "outputs": [
        {
          "output_type": "display_data",
          "data": {
            "text/plain": "<Figure size 640x480 with 1 Axes>",
            "image/png": "[encoded data removed]"
          },
          "metadata": {}
        }
      ]
    },
    {
      "cell_type": "code",
      "source": "from scipy.stats import poisson\ndef cd(mean,x):\n    cdf=poisson.cdf(x,mean)\n    return cdf",
      "metadata": {
        "trusted": true
      },
      "execution_count": 33,
      "outputs": []
    },
    {
      "cell_type": "code",
      "source": "cd(4,2)",
      "metadata": {
        "trusted": true
      },
      "execution_count": 34,
      "outputs": [
        {
          "execution_count": 34,
          "output_type": "execute_result",
          "data": {
            "text/plain": "0.23810330555354436"
          },
          "metadata": {}
        }
      ]
    },
    {
      "cell_type": "code",
      "source": "Possion take care of intervals\nBinomial take care of success and failure of n trials",
      "metadata": {
        "trusted": true
      },
      "execution_count": null,
      "outputs": []
    },
    {
      "cell_type": "code",
      "source": "",
      "metadata": {},
      "execution_count": null,
      "outputs": []
    },
    {
      "cell_type": "code",
      "source": "import numpy as np\n\ndef generate_poisson_sample(mean, size):\n    \"\"\"\n    Generates a random sample from a Poisson distribution.\n\n    Parameters:\n        mean (float): The mean of the Poisson distribution.\n        size (int): The size of the sample.\n\n    Returns:\n        numpy.ndarray: The generated random sample.\n    \"\"\"\n    sample = np.random.poisson(mean, size)\n    return sample\n\n# Generate a random sample of size 1000 from a Poisson distribution with mean 5\nsample_size = 1000\nmean = 5\nsample = generate_poisson_sample(mean, sample_size)\n\n# Calculate the sample mean and variance\nsample_mean = np.mean(sample)\nsample_variance = np.var(sample)\n\nprint(\"Sample Mean:\", sample_mean)\nprint(\"Sample Variance:\", sample_variance)\n",
      "metadata": {
        "trusted": true
      },
      "execution_count": 36,
      "outputs": [
        {
          "name": "stdout",
          "text": "Sample Mean: 4.977\nSample Variance: 5.382471\n",
          "output_type": "stream"
        }
      ]
    },
    {
      "cell_type": "code",
      "source": "",
      "metadata": {},
      "execution_count": null,
      "outputs": []
    },
    {
      "cell_type": "code",
      "source": "Binomial\nMean=np\nVariance=npq\n\nPoisson\nMean=variance=Lambda*t",
      "metadata": {},
      "execution_count": null,
      "outputs": []
    },
    {
      "cell_type": "code",
      "source": "",
      "metadata": {},
      "execution_count": null,
      "outputs": []
    },
    {
      "cell_type": "code",
      "source": "farthest from mean",
      "metadata": {},
      "execution_count": null,
      "outputs": []
    },
    {
      "cell_type": "code",
      "source": "",
      "metadata": {},
      "execution_count": null,
      "outputs": []
    },
    {
      "cell_type": "code",
      "source": "",
      "metadata": {},
      "execution_count": null,
      "outputs": []
    }
  ]
}