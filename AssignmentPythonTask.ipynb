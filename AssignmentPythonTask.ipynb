{
  "metadata": {
    "language_info": {
      "codemirror_mode": {
        "name": "python",
        "version": 3
      },
      "file_extension": ".py",
      "mimetype": "text/x-python",
      "name": "python",
      "nbconvert_exporter": "python",
      "pygments_lexer": "ipython3",
      "version": "3.8"
    },
    "kernelspec": {
      "name": "python",
      "display_name": "Python (Pyodide)",
      "language": "python"
    }
  },
  "nbformat_minor": 4,
  "nbformat": 4,
  "cells": [
    {
      "cell_type": "code",
      "source": "list1 = [1,2,3,4, [44,55,66, True], False, (34,56,78,89,34), {1,2,3,3,2,1}, {1:34, \"key2\": [55, 67, 78, 89], 4: (45,22, 61, 34)}, [56, 'data science'], 'Machine Learning']",
      "metadata": {
        "trusted": true
      },
      "execution_count": 1,
      "outputs": []
    },
    {
      "cell_type": "code",
      "source": "def test1(l,l1):\n    for i in l:\n        if type(i)==int:\n            l1.append(i)\n        elif type(i)==list:\n            test1(i,l1)\n        elif type(i)==set or type(i)==tuple:\n            test1(list(i),l1)\n        elif type(i)==dict:\n            test1(list(i.keys()),l1)\n            test1(list(i.values()),l1)\n        else:\n            continue        \n            \ndef test2(l):\n    l1=[]\n    test1(l,l1)\n    m=1\n    for i in l1:\n        m=m*i\n    return m",
      "metadata": {
        "trusted": true
      },
      "execution_count": 20,
      "outputs": []
    },
    {
      "cell_type": "code",
      "source": "test2(list1)",
      "metadata": {
        "trusted": true
      },
      "execution_count": 21,
      "outputs": [
        {
          "execution_count": 21,
          "output_type": "execute_result",
          "data": {
            "text/plain": "4134711838987085478833841242112000"
          },
          "metadata": {}
        }
      ]
    },
    {
      "cell_type": "code",
      "source": "s=\"I want to become a Data Scientist.\"\ns=s.lower()\nfor i in s:\n    if i!=' ' and i.isalpha():\n        s=s.replace(i,chr(ord('z')-ord(i)+ord('a')))\n    elif i==' ':\n        s=s.replace(' ','$')\nprint(s)        ",
      "metadata": {
        "trusted": true
      },
      "execution_count": 42,
      "outputs": [
        {
          "name": "stdout",
          "text": "r$wzmg$gl$yvxlmv$z$wzgz$hxrvmgrhg.\n",
          "output_type": "stream"
        }
      ]
    }
  ]
}