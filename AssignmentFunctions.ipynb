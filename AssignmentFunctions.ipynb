{
 "cells": [
  {
   "cell_type": "code",
   "execution_count": null,
   "id": "d9f2da62-6b3f-4075-97c2-761a7d2425db",
   "metadata": {},
   "outputs": [],
   "source": [
    "def keyword"
   ]
  },
  {
   "cell_type": "code",
   "execution_count": 9,
   "id": "70ba000c-0987-4aca-8a24-18b35e26e4aa",
   "metadata": {},
   "outputs": [],
   "source": [
    "def odd():\n",
    "    l=[]\n",
    "    for i in range(26):\n",
    "        l.append(i) if i%2!=0 else l\n",
    "    return l"
   ]
  },
  {
   "cell_type": "code",
   "execution_count": 10,
   "id": "2340c35c-7919-4c1e-845f-1af2191209f2",
   "metadata": {},
   "outputs": [
    {
     "data": {
      "text/plain": [
       "[1, 3, 5, 7, 9, 11, 13, 15, 17, 19, 21, 23, 25]"
      ]
     },
     "execution_count": 10,
     "metadata": {},
     "output_type": "execute_result"
    }
   ],
   "source": [
    "odd()"
   ]
  },
  {
   "cell_type": "code",
   "execution_count": null,
   "id": "5c44ae5f-0374-4524-b8ee-a55e8d8ca252",
   "metadata": {},
   "outputs": [],
   "source": []
  },
  {
   "cell_type": "code",
   "execution_count": null,
   "id": "cea767c5-ec27-46b5-9114-ef8ae4878923",
   "metadata": {},
   "outputs": [],
   "source": [
    "*args used to take any number of inputs in function while calling \n",
    "**kwargs used to store any number of data in dictionary format otherwise key data format"
   ]
  },
  {
   "cell_type": "code",
   "execution_count": 11,
   "id": "dba7a540-d107-4c36-9ff2-841526ff6ef3",
   "metadata": {},
   "outputs": [],
   "source": [
    "def test1(*args):\n",
    "    return args"
   ]
  },
  {
   "cell_type": "code",
   "execution_count": 12,
   "id": "7f0a50a7-0fb3-4433-b295-1e3abeb11b90",
   "metadata": {},
   "outputs": [
    {
     "data": {
      "text/plain": [
       "(1, 2, 3, 4, 5, 6, 7, 8)"
      ]
     },
     "execution_count": 12,
     "metadata": {},
     "output_type": "execute_result"
    }
   ],
   "source": [
    "test1(1,2,3,4,5,6,7,8)"
   ]
  },
  {
   "cell_type": "code",
   "execution_count": 13,
   "id": "14fc607f-0c84-49e4-ab42-72e688f8481a",
   "metadata": {},
   "outputs": [
    {
     "data": {
      "text/plain": [
       "(1, 2, 3, 4, 5, 6, 7, 8, 'Atri', 'car', 90)"
      ]
     },
     "execution_count": 13,
     "metadata": {},
     "output_type": "execute_result"
    }
   ],
   "source": [
    "test1(1,2,3,4,5,6,7,8,\"Atri\",\"car\",90)"
   ]
  },
  {
   "cell_type": "code",
   "execution_count": 15,
   "id": "6506a687-67b1-4757-a5fc-3c37546e8f06",
   "metadata": {},
   "outputs": [],
   "source": [
    "def test2(**kwargs):\n",
    "    return kwargs"
   ]
  },
  {
   "cell_type": "code",
   "execution_count": 16,
   "id": "06cb086d-4bc7-4f33-85d4-689412fd4754",
   "metadata": {},
   "outputs": [
    {
     "data": {
      "text/plain": [
       "{'a': 2, 'b': 9, 'c': 'Atri', 'd': 'car'}"
      ]
     },
     "execution_count": 16,
     "metadata": {},
     "output_type": "execute_result"
    }
   ],
   "source": [
    "test2(a=2,b=9,c=\"Atri\",d=\"car\")"
   ]
  },
  {
   "cell_type": "code",
   "execution_count": null,
   "id": "0a4fe9af-59e6-4e99-b050-986c2576a80c",
   "metadata": {},
   "outputs": [],
   "source": []
  },
  {
   "cell_type": "code",
   "execution_count": null,
   "id": "8b4ef49b-a88c-47da-8eb1-a7972c0fe0b0",
   "metadata": {},
   "outputs": [],
   "source": [
    "iterator is an object to move over lists,tuples and any other iterables"
   ]
  },
  {
   "cell_type": "code",
   "execution_count": null,
   "id": "efdbb3bb-e307-491a-8e9e-d39ad19fa091",
   "metadata": {},
   "outputs": [],
   "source": [
    "iter method is used"
   ]
  },
  {
   "cell_type": "code",
   "execution_count": 17,
   "id": "9d97d437-8dfc-4103-82b4-609d3dfe5601",
   "metadata": {},
   "outputs": [
    {
     "name": "stdout",
     "output_type": "stream",
     "text": [
      "2\n",
      "4\n",
      "6\n",
      "8\n",
      "10\n"
     ]
    }
   ],
   "source": [
    "l=[2, 4, 6, 8, 10, 12, 14, 16,18, 20]\n",
    "iterator=iter(l)\n",
    "print(next(iterator))\n",
    "print(next(iterator))\n",
    "print(next(iterator))\n",
    "print(next(iterator))\n",
    "print(next(iterator))"
   ]
  },
  {
   "cell_type": "code",
   "execution_count": null,
   "id": "54f152ca-f2e7-40f0-9dd3-d939a31a6c8e",
   "metadata": {},
   "outputs": [],
   "source": []
  },
  {
   "cell_type": "code",
   "execution_count": null,
   "id": "e68db0b2-52eb-4eea-935d-77cef401ff67",
   "metadata": {},
   "outputs": [],
   "source": [
    "generator function is the function which is used to generate data one at a time without taking extra space (such as giving whole set of data in list).\n",
    "it provides information one at a time while iteration occurs"
   ]
  },
  {
   "cell_type": "code",
   "execution_count": null,
   "id": "bfae16d6-92d1-4b48-9a95-dd1305e0bd47",
   "metadata": {},
   "outputs": [],
   "source": [
    "yield keyword is used to provide the piece of data in that iteration without storying in large memory"
   ]
  },
  {
   "cell_type": "code",
   "execution_count": 22,
   "id": "7a618feb-5713-4453-a51f-529d66c24d4d",
   "metadata": {},
   "outputs": [],
   "source": [
    "def test4():\n",
    "    for i in range(10):\n",
    "        if i%2!=0:\n",
    "            yield i"
   ]
  },
  {
   "cell_type": "code",
   "execution_count": 23,
   "id": "1f36c65f-9219-4b1a-bbc8-934627198771",
   "metadata": {},
   "outputs": [
    {
     "data": {
      "text/plain": [
       "<generator object test4 at 0x7f910422bed0>"
      ]
     },
     "execution_count": 23,
     "metadata": {},
     "output_type": "execute_result"
    }
   ],
   "source": [
    "test4()"
   ]
  },
  {
   "cell_type": "code",
   "execution_count": 24,
   "id": "2119fa81-5365-4679-b3cf-20c85bd98727",
   "metadata": {},
   "outputs": [
    {
     "name": "stdout",
     "output_type": "stream",
     "text": [
      "1\n",
      "3\n",
      "5\n",
      "7\n",
      "9\n"
     ]
    }
   ],
   "source": [
    "for i in test4():\n",
    "    print(i)"
   ]
  },
  {
   "cell_type": "code",
   "execution_count": null,
   "id": "e6352cfc-9831-4556-9501-35402f3c3d1a",
   "metadata": {},
   "outputs": [],
   "source": []
  },
  {
   "cell_type": "code",
   "execution_count": 29,
   "id": "64dc1aa6-6422-4a01-a5a0-117d80e0d14a",
   "metadata": {},
   "outputs": [],
   "source": [
    "def prime():\n",
    "    for i in range(1000):\n",
    "        c=0\n",
    "        for j in range(1,i+1):\n",
    "            if i%j==0:\n",
    "                c=c+1            \n",
    "        if c==2:\n",
    "            yield i"
   ]
  },
  {
   "cell_type": "code",
   "execution_count": 30,
   "id": "e3df8fac-b59d-4b89-9e03-70748a552a13",
   "metadata": {},
   "outputs": [
    {
     "name": "stdout",
     "output_type": "stream",
     "text": [
      "2\n",
      "3\n",
      "5\n",
      "7\n",
      "11\n",
      "13\n",
      "17\n",
      "19\n",
      "23\n",
      "29\n",
      "31\n",
      "37\n",
      "41\n",
      "43\n",
      "47\n",
      "53\n",
      "59\n",
      "61\n",
      "67\n",
      "71\n",
      "73\n",
      "79\n",
      "83\n",
      "89\n",
      "97\n",
      "101\n",
      "103\n",
      "107\n",
      "109\n",
      "113\n",
      "127\n",
      "131\n",
      "137\n",
      "139\n",
      "149\n",
      "151\n",
      "157\n",
      "163\n",
      "167\n",
      "173\n",
      "179\n",
      "181\n",
      "191\n",
      "193\n",
      "197\n",
      "199\n",
      "211\n",
      "223\n",
      "227\n",
      "229\n",
      "233\n",
      "239\n",
      "241\n",
      "251\n",
      "257\n",
      "263\n",
      "269\n",
      "271\n",
      "277\n",
      "281\n",
      "283\n",
      "293\n",
      "307\n",
      "311\n",
      "313\n",
      "317\n",
      "331\n",
      "337\n",
      "347\n",
      "349\n",
      "353\n",
      "359\n",
      "367\n",
      "373\n",
      "379\n",
      "383\n",
      "389\n",
      "397\n",
      "401\n",
      "409\n",
      "419\n",
      "421\n",
      "431\n",
      "433\n",
      "439\n",
      "443\n",
      "449\n",
      "457\n",
      "461\n",
      "463\n",
      "467\n",
      "479\n",
      "487\n",
      "491\n",
      "499\n",
      "503\n",
      "509\n",
      "521\n",
      "523\n",
      "541\n",
      "547\n",
      "557\n",
      "563\n",
      "569\n",
      "571\n",
      "577\n",
      "587\n",
      "593\n",
      "599\n",
      "601\n",
      "607\n",
      "613\n",
      "617\n",
      "619\n",
      "631\n",
      "641\n",
      "643\n",
      "647\n",
      "653\n",
      "659\n",
      "661\n",
      "673\n",
      "677\n",
      "683\n",
      "691\n",
      "701\n",
      "709\n",
      "719\n",
      "727\n",
      "733\n",
      "739\n",
      "743\n",
      "751\n",
      "757\n",
      "761\n",
      "769\n",
      "773\n",
      "787\n",
      "797\n",
      "809\n",
      "811\n",
      "821\n",
      "823\n",
      "827\n",
      "829\n",
      "839\n",
      "853\n",
      "857\n",
      "859\n",
      "863\n",
      "877\n",
      "881\n",
      "883\n",
      "887\n",
      "907\n",
      "911\n",
      "919\n",
      "929\n",
      "937\n",
      "941\n",
      "947\n",
      "953\n",
      "967\n",
      "971\n",
      "977\n",
      "983\n",
      "991\n",
      "997\n"
     ]
    }
   ],
   "source": [
    "for i in prime():\n",
    "    print(i)"
   ]
  },
  {
   "cell_type": "code",
   "execution_count": 48,
   "id": "d8ac77ac-d539-41e3-b8f9-0b6095cf6134",
   "metadata": {},
   "outputs": [],
   "source": [
    "def first():\n",
    "    l=[]\n",
    "    for i in range(100):\n",
    "        c,c1=0,0\n",
    "        for j in range(1,i+1):\n",
    "            if i%j==0:\n",
    "                c=c+1            \n",
    "        if c==2 and c1<20:\n",
    "            l.append(i)\n",
    "            c1=c1+1\n",
    "    iterator=iter(l)\n",
    "    for i in range(20):\n",
    "        print(next(iterator))"
   ]
  },
  {
   "cell_type": "code",
   "execution_count": 49,
   "id": "2607cd43-3795-4401-9bc2-fe6aa8b76fbf",
   "metadata": {},
   "outputs": [
    {
     "name": "stdout",
     "output_type": "stream",
     "text": [
      "2\n",
      "3\n",
      "5\n",
      "7\n",
      "11\n",
      "13\n",
      "17\n",
      "19\n",
      "23\n",
      "29\n",
      "31\n",
      "37\n",
      "41\n",
      "43\n",
      "47\n",
      "53\n",
      "59\n",
      "61\n",
      "67\n",
      "71\n"
     ]
    }
   ],
   "source": [
    "first()"
   ]
  },
  {
   "cell_type": "code",
   "execution_count": null,
   "id": "80e47d17-0f6d-4e2e-9b14-3fdf116dc58f",
   "metadata": {},
   "outputs": [],
   "source": []
  }
 ],
 "metadata": {
  "kernelspec": {
   "display_name": "Python 3 (ipykernel)",
   "language": "python",
   "name": "python3"
  },
  "language_info": {
   "codemirror_mode": {
    "name": "ipython",
    "version": 3
   },
   "file_extension": ".py",
   "mimetype": "text/x-python",
   "name": "python",
   "nbconvert_exporter": "python",
   "pygments_lexer": "ipython3",
   "version": "3.10.8"
  }
 },
 "nbformat": 4,
 "nbformat_minor": 5
}
