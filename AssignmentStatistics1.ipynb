{
  "metadata": {
    "language_info": {
      "codemirror_mode": {
        "name": "python",
        "version": 3
      },
      "file_extension": ".py",
      "mimetype": "text/x-python",
      "name": "python",
      "nbconvert_exporter": "python",
      "pygments_lexer": "ipython3",
      "version": "3.8"
    },
    "kernelspec": {
      "name": "python",
      "display_name": "Python (Pyodide)",
      "language": "python"
    }
  },
  "nbformat_minor": 4,
  "nbformat": 4,
  "cells": [
    {
      "cell_type": "code",
      "source": "Statitics is the science of collecting, organizing, analyzing data",
      "metadata": {},
      "execution_count": null,
      "outputs": []
    },
    {
      "cell_type": "code",
      "source": "",
      "metadata": {},
      "execution_count": null,
      "outputs": []
    },
    {
      "cell_type": "code",
      "source": "Descriptive statistics deals with organizing and summarizing data\nEx - Suppose given marks in Class an we have to find the average marks\n\nInferential statistics deals with giving conclusion on a data set\nEx- Suppose we want establish a tower for good network connectivity first we ask particular set of people in that\narea for network issues and on the basis of that we estalish a tower for the whole by concluding that the whole \narea would be suffering from network connectivity",
      "metadata": {},
      "execution_count": null,
      "outputs": []
    },
    {
      "cell_type": "code",
      "source": "",
      "metadata": {},
      "execution_count": null,
      "outputs": []
    },
    {
      "cell_type": "code",
      "source": "Quantitative---Numerical data set\nQualittative---Categorical data set\n\nQuantitative has 2 types\nDiscrete(Whole numbers with specific range) and Continuous(any numbers no specific range)\n\nQualitative has 2 types\nNominal(Countable type of categories No ranking possible) and Ordinal(Countable type of categories ranking possible)\n\nDiscrete- Marks of students\nContinuous- Height of students\n\nNominal- Gender\nOrdinal- Qualification or Grades",
      "metadata": {},
      "execution_count": null,
      "outputs": []
    },
    {
      "cell_type": "code",
      "source": "",
      "metadata": {},
      "execution_count": null,
      "outputs": []
    },
    {
      "cell_type": "code",
      "source": "Qualitative\nQualitative\nQuantitatve\nQuantitative",
      "metadata": {},
      "execution_count": null,
      "outputs": []
    },
    {
      "cell_type": "code",
      "source": "",
      "metadata": {},
      "execution_count": null,
      "outputs": []
    },
    {
      "cell_type": "code",
      "source": "Nominal scale data= Qualitative and categorical, No Ranking, Counting based Distribution data Ex-Gender\nOrdinal Scale data= Ranking and Order matters, Difference not measured  Ex- Qualification, Grades(A,A+,B..)\nInterval scale data= Ranking and Order matters, Difference measured, Ratio not measured Ex- Temperature\nRatio scale data= Ranking and Order matters, Difference measured, Ratio measured Ex- Marks",
      "metadata": {},
      "execution_count": null,
      "outputs": []
    },
    {
      "cell_type": "code",
      "source": "",
      "metadata": {},
      "execution_count": null,
      "outputs": []
    },
    {
      "cell_type": "code",
      "source": "It makes easier in analysing the Data and give conclusion on the basis of it.\nDifferent Problem statements can be categorized on the type of data being collected\n\nEx-Suppose are given a temperature data set then here Ranking and order matters in terms of temperature at a place\nwe can measure differnce but ratio is not relatable as hottness cannot be compared in terms of ratio.....So for \nconclusion here we need Interval scale to collect the data and analyze it",
      "metadata": {},
      "execution_count": null,
      "outputs": []
    },
    {
      "cell_type": "code",
      "source": "",
      "metadata": {},
      "execution_count": null,
      "outputs": []
    },
    {
      "cell_type": "code",
      "source": "Nominal Data means it is fixed range of categorical data which cannot be ordered whereas Ordinal data can be ranked",
      "metadata": {},
      "execution_count": null,
      "outputs": []
    },
    {
      "cell_type": "code",
      "source": "",
      "metadata": {},
      "execution_count": null,
      "outputs": []
    },
    {
      "cell_type": "code",
      "source": "Histogram",
      "metadata": {},
      "execution_count": null,
      "outputs": []
    },
    {
      "cell_type": "code",
      "source": "",
      "metadata": {},
      "execution_count": null,
      "outputs": []
    },
    {
      "cell_type": "code",
      "source": "Descriptive statistics deals with organizing and summarizing data\nEx - Suppose given marks in Class an we have to find the average marks\n\nInferential statistics deals with giving conclusion on a data set\nEx- Suppose we want establish a tower for good network connectivity first we ask particular set of people in that\narea for network issues and on the basis of that we estalish a tower for the whole by concluding that the whole \narea would be suffering from network connectivity",
      "metadata": {},
      "execution_count": null,
      "outputs": []
    },
    {
      "cell_type": "code",
      "source": "",
      "metadata": {},
      "execution_count": null,
      "outputs": []
    },
    {
      "cell_type": "code",
      "source": "Central tendency- Mean,Median,Mode\nMean finds average median mid value and mode wh\nVariability- Standard Deviation, Variance",
      "metadata": {},
      "execution_count": null,
      "outputs": []
    },
    {
      "cell_type": "code",
      "source": "",
      "metadata": {},
      "execution_count": null,
      "outputs": []
    },
    {
      "cell_type": "code",
      "source": "",
      "metadata": {},
      "execution_count": null,
      "outputs": []
    },
    {
      "cell_type": "code",
      "source": "",
      "metadata": {},
      "execution_count": null,
      "outputs": []
    }
  ]
}