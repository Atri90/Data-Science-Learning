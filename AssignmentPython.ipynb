{
  "metadata": {
    "language_info": {
      "codemirror_mode": {
        "name": "python",
        "version": 3
      },
      "file_extension": ".py",
      "mimetype": "text/x-python",
      "name": "python",
      "nbconvert_exporter": "python",
      "pygments_lexer": "ipython3",
      "version": "3.8"
    },
    "kernelspec": {
      "name": "python",
      "display_name": "Python (Pyodide)",
      "language": "python"
    }
  },
  "nbformat_minor": 4,
  "nbformat": 4,
  "cells": [
    {
      "cell_type": "raw",
      "source": "Guido Van Rossum\n\nObject oriented \n\nYes Case sensitive\n\n.py\n\ncompiled\n\n-----start-----\nif a>b:\n   print(a)\n-----end of block----- \n\n# symbol\n\n",
      "metadata": {}
    },
    {
      "cell_type": "code",
      "source": "from platform import python_version\nprint(python_version())",
      "metadata": {
        "trusted": true
      },
      "execution_count": 4,
      "outputs": [
        {
          "name": "stdout",
          "text": "3.11.2\n",
          "output_type": "stream"
        }
      ]
    },
    {
      "cell_type": "raw",
      "source": "lambda \n\npip install packages\n\nrange(),len(),print() etc..\n\n79\n\nuser friendly\neasy to interpret\nhigh level language\ndynamic typing and binding\n\nMemory usgae managed by python runtime environment\n\n\nDownload Python: Visit the official Python website at https://www.python.org and go to the Downloads section. Choose the latest stable version of Python for Windows and select the installer that matches your system architecture (32-bit or 64-bit).\n\nRun the installer: Once the installer is downloaded, double-click on it to run it. You may need administrative privileges to install software on your computer.\n\nCustomize the installation (optional): In the installer, you have the option to customize the installation. You can choose the features you want to install, such as adding Python to the system PATH or installing additional components. Make sure the \"Add Python to PATH\" option is checked, as it will automatically set up the necessary environment variables for you.\n\nStart the installation: Click on the \"Install Now\" button to start the installation process. You can also choose a different installation location if you prefer, but the default location is usually fine.\n\nWait for the installation to complete: The installer will copy the necessary files and set up Python on your system. This process may take a few minutes.\n\nVerify the installation: Once the installation is complete, you can verify it by opening the Command Prompt. Press Win + R, type \"cmd\" (without quotes), and press Enter to open the Command Prompt.\n\nCheck Python version: In the Command Prompt, type python --version and press Enter. You should see the installed Python version displayed, indicating that Python is installed correctly.\n\nSet up PATH variables (if not done automatically): In some cases, the \"Add Python to PATH\" option may not be selected during the installation. In such cases, you'll need to manually set up the PATH variables. Here's how:\n\na. Right-click on the \"This PC\" or \"My Computer\" icon on your desktop and select \"Properties.\"\n\nb. In the System window, click on \"Advanced system settings\" on the left sidebar.\n\nc. In the System Properties window, click on the \"Environment Variables\" button.\n\nd. In the Environment Variables window, under \"System variables,\" locate the \"Path\" variable and click on \"Edit.\"\n\ne. Add the following path to the list of paths (if it's not already present): C:\\PythonXX\\ (replace \"XX\" with the version number of Python installed, e.g., C:\\Python39\\).\n\nf. Click \"OK\" to save the changes.\n\nVerify PATH variable setup: Open a new Command Prompt window and type python --version again. If you see the Python version displayed, it means the PATH variables are set up correctly.\n\n\nYes,indentation required",
      "metadata": {}
    }
  ]
}