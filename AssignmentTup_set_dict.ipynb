{
 "cells": [
  {
   "cell_type": "code",
   "execution_count": null,
   "id": "c00b8efe-8c55-49ae-b491-b9fc1030306a",
   "metadata": {},
   "outputs": [],
   "source": [
    " Tuples can store data of any type as if its a container. It is immutable"
   ]
  },
  {
   "cell_type": "code",
   "execution_count": null,
   "id": "a1e33f67-93b0-4cb5-b2cb-5f42eb02e31d",
   "metadata": {},
   "outputs": [],
   "source": []
  },
  {
   "cell_type": "code",
   "execution_count": null,
   "id": "5af0c394-1579-4e2b-b450-bd015b1dfc00",
   "metadata": {},
   "outputs": [],
   "source": [
    "count() and index()"
   ]
  },
  {
   "cell_type": "code",
   "execution_count": 1,
   "id": "1433fa54-a2b7-472c-8475-765809f893db",
   "metadata": {},
   "outputs": [],
   "source": [
    "t=(1,1,1,2,3,1,\"Atri\",'+')"
   ]
  },
  {
   "cell_type": "code",
   "execution_count": 2,
   "id": "9197d75e-5156-4c9b-ac44-47e4efae9dc6",
   "metadata": {},
   "outputs": [
    {
     "data": {
      "text/plain": [
       "4"
      ]
     },
     "execution_count": 2,
     "metadata": {},
     "output_type": "execute_result"
    }
   ],
   "source": [
    "t.count(1)"
   ]
  },
  {
   "cell_type": "code",
   "execution_count": 4,
   "id": "abc3e38d-bac5-4b63-a25e-5fe36af92d64",
   "metadata": {},
   "outputs": [
    {
     "data": {
      "text/plain": [
       "6"
      ]
     },
     "execution_count": 4,
     "metadata": {},
     "output_type": "execute_result"
    }
   ],
   "source": [
    "t.index(\"Atri\")"
   ]
  },
  {
   "cell_type": "code",
   "execution_count": 5,
   "id": "6da45b2c-382e-4a0e-bb56-1cf1722a0a0b",
   "metadata": {},
   "outputs": [
    {
     "data": {
      "text/plain": [
       "0"
      ]
     },
     "execution_count": 5,
     "metadata": {},
     "output_type": "execute_result"
    }
   ],
   "source": [
    "t.index(1)"
   ]
  },
  {
   "cell_type": "code",
   "execution_count": 6,
   "id": "06cb824d-fef7-4291-881c-6bc6653dcad5",
   "metadata": {},
   "outputs": [],
   "source": [
    "As Tuples are immutable"
   ]
  },
  {
   "cell_type": "code",
   "execution_count": null,
   "id": "7518f9ae-a449-4cbc-a1b6-90049435b0f2",
   "metadata": {},
   "outputs": [],
   "source": []
  },
  {
   "cell_type": "code",
   "execution_count": null,
   "id": "055e4edf-faee-475f-9ca2-4ae02c758305",
   "metadata": {},
   "outputs": [],
   "source": [
    "Sets"
   ]
  },
  {
   "cell_type": "code",
   "execution_count": 13,
   "id": "1dcacb1d-a865-4436-9e5e-c8ff4d0a7257",
   "metadata": {},
   "outputs": [
    {
     "data": {
      "text/plain": [
       "[1, 2, 3, 4]"
      ]
     },
     "execution_count": 13,
     "metadata": {},
     "output_type": "execute_result"
    }
   ],
   "source": [
    "List = [1, 1, 1, 2, 1, 3, 1, 4, 2, 1, 2, 2, 2, 3, 2, 4, 3, 1, 3, 2, 3, 3, 3, 4, 4, 1, 4, 2, 4, 3, 4, 4]\n",
    "s=set(List)\n",
    "list(s)"
   ]
  },
  {
   "cell_type": "code",
   "execution_count": null,
   "id": "3824c90e-676c-4e20-a8f0-39c495059a4b",
   "metadata": {},
   "outputs": [],
   "source": []
  },
  {
   "cell_type": "code",
   "execution_count": 1,
   "id": "2838b632-02d3-4e3d-b836-89ebdeac8c8c",
   "metadata": {},
   "outputs": [
    {
     "data": {
      "text/plain": [
       "{1, 2, 3, 4, 5, 6, 7, 8}"
      ]
     },
     "execution_count": 1,
     "metadata": {},
     "output_type": "execute_result"
    }
   ],
   "source": [
    "s1={1,2,3,4,5}\n",
    "s2={4,5,6,7,8}\n",
    "s1.update(s2)\n",
    "s1\n",
    "\n",
    "#Takes union of both sets taking common elements only once\n",
    "#it is inplace transition as original set is updated"
   ]
  },
  {
   "cell_type": "code",
   "execution_count": 2,
   "id": "b06afa51-6e9f-4c39-9a6f-30347e41a8bd",
   "metadata": {},
   "outputs": [
    {
     "name": "stdout",
     "output_type": "stream",
     "text": [
      "{1, 2, 3, 4, 5, 6, 7, 8}\n"
     ]
    }
   ],
   "source": [
    "s1={1,2,3,4,5}\n",
    "s2={4,5,6,7,8}\n",
    "print(s1.union(s2))\n",
    "\n",
    "#This also takes union but is not inplace transition as original set is not updated"
   ]
  },
  {
   "cell_type": "code",
   "execution_count": 3,
   "id": "26e638e2-8dec-4775-ae40-9c749bc11376",
   "metadata": {},
   "outputs": [
    {
     "data": {
      "text/plain": [
       "{1, 2, 3, 4, 5}"
      ]
     },
     "execution_count": 3,
     "metadata": {},
     "output_type": "execute_result"
    }
   ],
   "source": [
    "s1"
   ]
  },
  {
   "cell_type": "code",
   "execution_count": null,
   "id": "04d27ec1-d277-42a4-8ddc-2dda944e4249",
   "metadata": {},
   "outputs": [],
   "source": []
  },
  {
   "cell_type": "code",
   "execution_count": null,
   "id": "ec5a2fc6-991c-43ad-9c5f-7f5f778cb648",
   "metadata": {},
   "outputs": [],
   "source": [
    "Dictionary is data structure which is a container stores unique keys along with its data of any data type.\n",
    "Unhasble items cannot be key"
   ]
  },
  {
   "cell_type": "code",
   "execution_count": 9,
   "id": "a425799b-1cda-4c57-9f5c-1a63b36eb308",
   "metadata": {},
   "outputs": [
    {
     "data": {
      "text/plain": [
       "{'1': 'Atri', 'Number': 8250444861}"
      ]
     },
     "execution_count": 9,
     "metadata": {},
     "output_type": "execute_result"
    }
   ],
   "source": [
    "d1={\"1\": \"Atri\" , \"Number\": 8250444861}\n",
    "d1"
   ]
  },
  {
   "cell_type": "code",
   "execution_count": null,
   "id": "49626b65-d4ab-4cc1-94bd-548970886554",
   "metadata": {},
   "outputs": [],
   "source": [
    "dictionary is unordered"
   ]
  },
  {
   "cell_type": "code",
   "execution_count": null,
   "id": "6c0b3407-f1a1-4306-8746-b634cee493b2",
   "metadata": {},
   "outputs": [],
   "source": []
  },
  {
   "cell_type": "code",
   "execution_count": 6,
   "id": "11e30d70-fe12-429b-9894-0fa7c0b5e207",
   "metadata": {},
   "outputs": [
    {
     "ename": "TypeError",
     "evalue": "unhashable type: 'dict'",
     "output_type": "error",
     "traceback": [
      "\u001b[0;31m---------------------------------------------------------------------------\u001b[0m",
      "\u001b[0;31mTypeError\u001b[0m                                 Traceback (most recent call last)",
      "Cell \u001b[0;32mIn[6], line 1\u001b[0m\n\u001b[0;32m----> 1\u001b[0m d\u001b[38;5;241m=\u001b[39m{{\u001b[38;5;241m1\u001b[39m:\u001b[38;5;124m\"\u001b[39m\u001b[38;5;124m2\u001b[39m\u001b[38;5;124m\"\u001b[39m,\u001b[38;5;241m2\u001b[39m:\u001b[38;5;124m\"\u001b[39m\u001b[38;5;124m3\u001b[39m\u001b[38;5;124m\"\u001b[39m}:\u001b[38;5;124m\"\u001b[39m\u001b[38;5;124mAtri\u001b[39m\u001b[38;5;124m\"\u001b[39m}\n",
      "\u001b[0;31mTypeError\u001b[0m: unhashable type: 'dict'"
     ]
    }
   ],
   "source": [
    "d={{1:\"2\",2:\"3\"}:\"Atri\"}\n",
    "\n",
    "#As dictionary is uinhashable so can't be made nested"
   ]
  },
  {
   "cell_type": "code",
   "execution_count": 12,
   "id": "ece13d33-1811-4098-badc-ba90c9b63da0",
   "metadata": {},
   "outputs": [
    {
     "data": {
      "text/plain": [
       "{1: {1: '2', 2: '3'}}"
      ]
     },
     "execution_count": 12,
     "metadata": {},
     "output_type": "execute_result"
    }
   ],
   "source": [
    "d={1:{1:\"2\",2:\"3\"}}\n",
    "d\n",
    "#But as a value we can take but not key"
   ]
  },
  {
   "cell_type": "code",
   "execution_count": null,
   "id": "d051561e-c661-4a75-af87-be658aaee7e8",
   "metadata": {},
   "outputs": [],
   "source": []
  },
  {
   "cell_type": "code",
   "execution_count": 14,
   "id": "101d617f-5fdb-44cd-ad61-838bfab804c4",
   "metadata": {},
   "outputs": [
    {
     "data": {
      "text/plain": [
       "{'language': 'Python',\n",
       " 'course': 'Data Science Masters',\n",
       " 'Skill': 'Machine Learning',\n",
       " 'skill1': None}"
      ]
     },
     "execution_count": 14,
     "metadata": {},
     "output_type": "execute_result"
    }
   ],
   "source": [
    "dict1 = {'language' : 'Python', 'course': 'Data Science Masters'}\n",
    "dict1.setdefault('language','Python')\n",
    "dict1.setdefault('Skill','Machine Learning')\n",
    "dict1.setdefault('skill1',\"Deep learning\")\n",
    "dict1"
   ]
  },
  {
   "cell_type": "code",
   "execution_count": null,
   "id": "48b30e18-9395-4e31-958e-378d228980b2",
   "metadata": {},
   "outputs": [],
   "source": []
  },
  {
   "cell_type": "code",
   "execution_count": null,
   "id": "63eeb5fc-66fe-472e-8003-e0e0d1ef3c32",
   "metadata": {},
   "outputs": [],
   "source": [
    "items,keys,values "
   ]
  },
  {
   "cell_type": "code",
   "execution_count": 17,
   "id": "978cc30a-8d1f-4c96-88bb-cb4575eb368f",
   "metadata": {},
   "outputs": [],
   "source": [
    "dict1 = {'Sport': 'Cricket' , 'Teams': ['India', 'Australia', 'England', 'South Africa', 'Sri Lanka', 'New Zealand']}"
   ]
  },
  {
   "cell_type": "code",
   "execution_count": 19,
   "id": "3e309bf4-9f14-44be-8233-4cddb99c09ea",
   "metadata": {},
   "outputs": [
    {
     "data": {
      "text/plain": [
       "['Sport', 'Teams']"
      ]
     },
     "execution_count": 19,
     "metadata": {},
     "output_type": "execute_result"
    }
   ],
   "source": [
    "list(dict1.keys())"
   ]
  },
  {
   "cell_type": "code",
   "execution_count": 20,
   "id": "d5f58f6c-9c68-4ef7-8926-3233a5ff2a02",
   "metadata": {},
   "outputs": [
    {
     "data": {
      "text/plain": [
       "['Cricket',\n",
       " ['India', 'Australia', 'England', 'South Africa', 'Sri Lanka', 'New Zealand']]"
      ]
     },
     "execution_count": 20,
     "metadata": {},
     "output_type": "execute_result"
    }
   ],
   "source": [
    "list(dict1.values())"
   ]
  },
  {
   "cell_type": "code",
   "execution_count": 21,
   "id": "c8996416-9c68-4b46-984e-197b3ee52a48",
   "metadata": {},
   "outputs": [
    {
     "data": {
      "text/plain": [
       "[('Sport', 'Cricket'),\n",
       " ('Teams',\n",
       "  ['India',\n",
       "   'Australia',\n",
       "   'England',\n",
       "   'South Africa',\n",
       "   'Sri Lanka',\n",
       "   'New Zealand'])]"
      ]
     },
     "execution_count": 21,
     "metadata": {},
     "output_type": "execute_result"
    }
   ],
   "source": [
    "list(dict1.items())"
   ]
  },
  {
   "cell_type": "code",
   "execution_count": null,
   "id": "5146396f-58e3-4779-87f1-ea909f75439b",
   "metadata": {},
   "outputs": [],
   "source": []
  }
 ],
 "metadata": {
  "kernelspec": {
   "display_name": "Python 3 (ipykernel)",
   "language": "python",
   "name": "python3"
  },
  "language_info": {
   "codemirror_mode": {
    "name": "ipython",
    "version": 3
   },
   "file_extension": ".py",
   "mimetype": "text/x-python",
   "name": "python",
   "nbconvert_exporter": "python",
   "pygments_lexer": "ipython3",
   "version": "3.10.8"
  }
 },
 "nbformat": 4,
 "nbformat_minor": 5
}
